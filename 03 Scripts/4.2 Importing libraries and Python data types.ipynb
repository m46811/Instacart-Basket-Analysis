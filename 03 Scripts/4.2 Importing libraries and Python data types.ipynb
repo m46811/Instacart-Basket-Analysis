{
 "cells": [
  {
   "cell_type": "code",
   "execution_count": 86,
   "id": "d9856474-5ae3-4104-9384-45649b846038",
   "metadata": {},
   "outputs": [],
   "source": [
    "# Import libraries"
   ]
  },
  {
   "cell_type": "code",
   "execution_count": 87,
   "id": "5ce5cf0d-dfa9-4e5f-8de3-071f1498a61c",
   "metadata": {},
   "outputs": [],
   "source": [
    "import pandas as pd\n",
    "import numpy as np\n",
    "import os"
   ]
  },
  {
   "cell_type": "code",
   "execution_count": 88,
   "id": "8bb47b09-0fb2-4438-9c45-8a5f989da62d",
   "metadata": {},
   "outputs": [],
   "source": [
    "## Data types"
   ]
  },
  {
   "cell_type": "code",
   "execution_count": 89,
   "id": "c4f903e4-c76e-4db4-ad03-6c79e5945754",
   "metadata": {},
   "outputs": [],
   "source": [
    "x = 40\n",
    "y = 60\n",
    "print(x + y)"
   ]
  },
  {
   "cell_type": "code",
   "execution_count": 113,
   "id": "a0bc15e6-7bc6-455f-ab9c-c2d696c22de7",
   "metadata": {},
   "outputs": [
    {
     "name": "stdout",
     "output_type": "stream",
     "text": [
      "100\n",
      "100\n"
     ]
    }
   ],
   "source": [
    "z = 10\n",
    "print (z**2)\n",
    "print (z * 10)"
   ]
  },
  {
   "cell_type": "code",
   "execution_count": 112,
   "id": "f86180dc-6fc5-4e0c-9de7-d4f289763879",
   "metadata": {},
   "outputs": [
    {
     "name": "stdout",
     "output_type": "stream",
     "text": [
      "4.2\n"
     ]
    }
   ],
   "source": [
    "#Code 2 floating-point variables and divide them by each other.\n",
    "a = 10.5\n",
    "b = 2.5\n",
    "result = a / b\n",
    "print(result)\n"
   ]
  },
  {
   "cell_type": "code",
   "execution_count": 102,
   "id": "8f99c7f7-8777-4d88-83e8-01f6f72e8dfb",
   "metadata": {},
   "outputs": [
    {
     "name": "stdout",
     "output_type": "stream",
     "text": [
      "www.careerfoundry.com\n"
     ]
    }
   ],
   "source": [
    "#Construct a short word made of separate strings (you’ll need to concatenate some strings!).\n",
    "p = 'www.career'\n",
    "q = 'foundry.com'\n",
    "print (p + q)"
   ]
  },
  {
   "cell_type": "code",
   "execution_count": 124,
   "id": "ce9842f3-c488-470f-8a0f-821728b17235",
   "metadata": {},
   "outputs": [
    {
     "name": "stdout",
     "output_type": "stream",
     "text": [
      "My name is Milena.\n",
      "I love ice cream and summer.\n",
      "Hello!Hello!Hello!Hello!Hello!Hello!Hello!Hello!Hello!Hello!Hello!Hello!Hello!Hello!Hello!Hello!Hello!Hello!Hello!Hello!Hello!Hello!Hello!Hello!Hello!Hello!Hello!Hello!Hello!Hello!Hello!Hello!Hello!Hello!Hello!Hello!Hello!Hello!Hello!Hello!Hello!Hello!Hello!Hello!Hello!Hello!Hello!Hello!Hello!Hello!Hello!Hello!Hello!Hello!Hello!Hello!Hello!Hello!Hello!Hello!Hello!Hello!Hello!Hello!Hello!Hello!Hello!Hello!Hello!Hello!Hello!Hello!Hello!Hello!Hello!Hello!Hello!Hello!Hello!Hello!Hello!Hello!Hello!Hello!Hello!Hello!Hello!Hello!Hello!Hello!Hello!Hello!Hello!Hello!Hello!Hello!Hello!Hello!Hello!Hello!\n"
     ]
    }
   ],
   "source": [
    "#Construct 2 short sentences made of separate strings.\n",
    "s = 'My name is '\n",
    "t = 'Milena.'\n",
    "u = 'I love '\n",
    "v = 'ice cream and summer.'\n",
    "print (s + t) \n",
    "print (u + v)\n"
   ]
  },
  {
   "cell_type": "code",
   "execution_count": 125,
   "id": "1dabbaec-152f-4e86-a863-7491deb0b28c",
   "metadata": {},
   "outputs": [
    {
     "name": "stdout",
     "output_type": "stream",
     "text": [
      "Hello!Hello!Hello!Hello!Hello!Hello!Hello!Hello!Hello!Hello!Hello!Hello!Hello!Hello!Hello!Hello!Hello!Hello!Hello!Hello!Hello!Hello!Hello!Hello!Hello!Hello!Hello!Hello!Hello!Hello!Hello!Hello!Hello!Hello!Hello!Hello!Hello!Hello!Hello!Hello!Hello!Hello!Hello!Hello!Hello!Hello!Hello!Hello!Hello!Hello!Hello!Hello!Hello!Hello!Hello!Hello!Hello!Hello!Hello!Hello!Hello!Hello!Hello!Hello!Hello!Hello!Hello!Hello!Hello!Hello!Hello!Hello!Hello!Hello!Hello!Hello!Hello!Hello!Hello!Hello!Hello!Hello!Hello!Hello!Hello!Hello!Hello!Hello!Hello!Hello!Hello!Hello!Hello!Hello!Hello!Hello!Hello!Hello!Hello!Hello!\n"
     ]
    }
   ],
   "source": [
    "# At the bottom of your file, include a command that makes a string appear 100 times\n",
    "print ('Hello!'*100)"
   ]
  },
  {
   "cell_type": "code",
   "execution_count": 131,
   "id": "27eaaaa6-2309-4ed5-bb5b-7849154cb2fc",
   "metadata": {},
   "outputs": [
    {
     "name": "stdout",
     "output_type": "stream",
     "text": [
      "1 Hello!\n",
      "2 Hello!\n",
      "3 Hello!\n",
      "4 Hello!\n",
      "5 Hello!\n",
      "6 Hello!\n",
      "7 Hello!\n",
      "8 Hello!\n",
      "9 Hello!\n",
      "10 Hello!\n",
      "11 Hello!\n",
      "12 Hello!\n",
      "13 Hello!\n",
      "14 Hello!\n",
      "15 Hello!\n",
      "16 Hello!\n",
      "17 Hello!\n",
      "18 Hello!\n",
      "19 Hello!\n",
      "20 Hello!\n",
      "21 Hello!\n",
      "22 Hello!\n",
      "23 Hello!\n",
      "24 Hello!\n",
      "25 Hello!\n",
      "26 Hello!\n",
      "27 Hello!\n",
      "28 Hello!\n",
      "29 Hello!\n",
      "30 Hello!\n",
      "31 Hello!\n",
      "32 Hello!\n",
      "33 Hello!\n",
      "34 Hello!\n",
      "35 Hello!\n",
      "36 Hello!\n",
      "37 Hello!\n",
      "38 Hello!\n",
      "39 Hello!\n",
      "40 Hello!\n",
      "41 Hello!\n",
      "42 Hello!\n",
      "43 Hello!\n",
      "44 Hello!\n",
      "45 Hello!\n",
      "46 Hello!\n",
      "47 Hello!\n",
      "48 Hello!\n",
      "49 Hello!\n",
      "50 Hello!\n",
      "51 Hello!\n",
      "52 Hello!\n",
      "53 Hello!\n",
      "54 Hello!\n",
      "55 Hello!\n",
      "56 Hello!\n",
      "57 Hello!\n",
      "58 Hello!\n",
      "59 Hello!\n",
      "60 Hello!\n",
      "61 Hello!\n",
      "62 Hello!\n",
      "63 Hello!\n",
      "64 Hello!\n",
      "65 Hello!\n",
      "66 Hello!\n",
      "67 Hello!\n",
      "68 Hello!\n",
      "69 Hello!\n",
      "70 Hello!\n",
      "71 Hello!\n",
      "72 Hello!\n",
      "73 Hello!\n",
      "74 Hello!\n",
      "75 Hello!\n",
      "76 Hello!\n",
      "77 Hello!\n",
      "78 Hello!\n",
      "79 Hello!\n",
      "80 Hello!\n",
      "81 Hello!\n",
      "82 Hello!\n",
      "83 Hello!\n",
      "84 Hello!\n",
      "85 Hello!\n",
      "86 Hello!\n",
      "87 Hello!\n",
      "88 Hello!\n",
      "89 Hello!\n",
      "90 Hello!\n",
      "91 Hello!\n",
      "92 Hello!\n",
      "93 Hello!\n",
      "94 Hello!\n",
      "95 Hello!\n",
      "96 Hello!\n",
      "97 Hello!\n",
      "98 Hello!\n",
      "99 Hello!\n",
      "100 Hello!\n"
     ]
    }
   ],
   "source": [
    "h = 1\n",
    "while h < 101:\n",
    "    print(h, 'Hello!')\n",
    "    h += 1"
   ]
  },
  {
   "cell_type": "code",
   "execution_count": null,
   "id": "fd292957-f764-4bfd-aa27-5ebc196024fb",
   "metadata": {},
   "outputs": [],
   "source": []
  }
 ],
 "metadata": {
  "kernelspec": {
   "display_name": "Python [conda env:base] *",
   "language": "python",
   "name": "conda-base-py"
  },
  "language_info": {
   "codemirror_mode": {
    "name": "ipython",
    "version": 3
   },
   "file_extension": ".py",
   "mimetype": "text/x-python",
   "name": "python",
   "nbconvert_exporter": "python",
   "pygments_lexer": "ipython3",
   "version": "3.13.5"
  }
 },
 "nbformat": 4,
 "nbformat_minor": 5
}
