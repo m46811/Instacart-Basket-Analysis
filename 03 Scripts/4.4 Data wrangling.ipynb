{
 "cells": [
  {
   "cell_type": "markdown",
   "id": "1d62634a-44bf-400b-acf0-bd00afe11b84",
   "metadata": {},
   "source": [
    "#### Data Wrangling"
   ]
  },
  {
   "cell_type": "code",
   "execution_count": 2,
   "id": "766b9eb8-7de0-4d09-a680-cd66f28c8910",
   "metadata": {},
   "outputs": [],
   "source": [
    "## Import libraries & Declare the path to the data files\n",
    "import pandas as pd\n",
    "import numpy as np\n",
    "import os\n",
    "path = r'C:\\Users\\PC\\Desktop\\CareerFoundry Data Analytics\\08-2025 Instacart Basket Analysis\\02 Data\\Original Data'\n",
    "path_data = r'C:\\Users\\PC\\Desktop\\CareerFoundry Data Analytics\\08-2025 Instacart Basket Analysis'"
   ]
  },
  {
   "cell_type": "code",
   "execution_count": 3,
   "id": "2bb6022e-9f3a-4c0c-9893-693a70bad356",
   "metadata": {},
   "outputs": [],
   "source": [
    "## Import data \n",
    "df_ord = pd.read_csv(os.path.join(path, 'orders.csv'), index_col=False)\n",
    "df_prods = pd.read_csv(os.path.join(path, 'products.csv'), index_col=False)\n",
    "df_dep = pd.read_csv(os.path.join(path, 'departments.csv'), index_col = False)\n",
    "df_ord = df_ord.drop(columns = ['eval_set'])"
   ]
  },
  {
   "cell_type": "code",
   "execution_count": 4,
   "id": "79eae019-4ff8-47a6-91ad-2976cb8f9e44",
   "metadata": {},
   "outputs": [
    {
     "data": {
      "text/plain": [
       "(3421083, 6)"
      ]
     },
     "execution_count": 4,
     "metadata": {},
     "output_type": "execute_result"
    }
   ],
   "source": [
    "df_ord.shape"
   ]
  },
  {
   "cell_type": "code",
   "execution_count": 5,
   "id": "99f6d656-0efb-4748-9f1f-8c791ea8dbf7",
   "metadata": {},
   "outputs": [
    {
     "data": {
      "text/plain": [
       "(49693, 5)"
      ]
     },
     "execution_count": 5,
     "metadata": {},
     "output_type": "execute_result"
    }
   ],
   "source": [
    "df_prods.shape"
   ]
  },
  {
   "cell_type": "code",
   "execution_count": 129,
   "id": "f3347bc8-e903-444b-a7d7-613dca9e887a",
   "metadata": {},
   "outputs": [],
   "source": [
    "# Find another identifier variable in the df_ords dataframe that doesn’t need to be included in your analysis as a numeric variable and change it to a suitable format.\n",
    "df_ord['user_id'] = df_ord['user_id'].astype('str')"
   ]
  },
  {
   "cell_type": "code",
   "execution_count": 130,
   "id": "d9bdbaec-d1de-4628-821c-0b6afb9ec73f",
   "metadata": {
    "scrolled": true
   },
   "outputs": [
    {
     "data": {
      "text/plain": [
       "order_hour_of_day\n",
       "10    288418\n",
       "11    284728\n",
       "15    283639\n",
       "14    283042\n",
       "13    277999\n",
       "12    272841\n",
       "16    272553\n",
       "9     257812\n",
       "17    228795\n",
       "18    182912\n",
       "8     178201\n",
       "19    140569\n",
       "20    104292\n",
       "7      91868\n",
       "21     78109\n",
       "22     61468\n",
       "23     40043\n",
       "6      30529\n",
       "0      22758\n",
       "1      12398\n",
       "5       9569\n",
       "2       7539\n",
       "4       5527\n",
       "3       5474\n",
       "Name: count, dtype: int64"
      ]
     },
     "execution_count": 130,
     "metadata": {},
     "output_type": "execute_result"
    }
   ],
   "source": [
    "df_ord['order_hour_of_day'].value_counts(dropna = True)"
   ]
  },
  {
   "cell_type": "markdown",
   "id": "ac3aa8f6-fe14-4b4e-9b1a-b90b183265aa",
   "metadata": {},
   "source": [
    "#### Name change"
   ]
  },
  {
   "cell_type": "code",
   "execution_count": 131,
   "id": "0d47ab1a-674e-42d0-80b5-fab4eed9981e",
   "metadata": {},
   "outputs": [],
   "source": [
    "# Look for a variable in your df_ords dataframe with an unintuitive name and change its name without overwriting the dataframe.\n",
    "df_ord.rename(columns = {'order_dow' : 'orders_day_of_week'}, inplace = True)\n"
   ]
  },
  {
   "cell_type": "markdown",
   "id": "d47e88d2-c689-4369-9ba7-9025efdce919",
   "metadata": {},
   "source": [
    "#### Busiest hour"
   ]
  },
  {
   "cell_type": "code",
   "execution_count": 132,
   "id": "29925617-506a-46f1-98ef-b92fa6caa4c7",
   "metadata": {},
   "outputs": [
    {
     "data": {
      "text/plain": [
       "order_hour_of_day\n",
       "10    288418\n",
       "11    284728\n",
       "15    283639\n",
       "14    283042\n",
       "13    277999\n",
       "12    272841\n",
       "16    272553\n",
       "9     257812\n",
       "17    228795\n",
       "18    182912\n",
       "8     178201\n",
       "19    140569\n",
       "20    104292\n",
       "7      91868\n",
       "21     78109\n",
       "22     61468\n",
       "23     40043\n",
       "6      30529\n",
       "0      22758\n",
       "1      12398\n",
       "5       9569\n",
       "2       7539\n",
       "4       5527\n",
       "3       5474\n",
       "Name: count, dtype: int64"
      ]
     },
     "execution_count": 132,
     "metadata": {},
     "output_type": "execute_result"
    }
   ],
   "source": [
    "# Your client wants to know what the busiest hour is for placing orders. Find the frequency of the corresponding variable and share your findings.\n",
    "df_ord['order_hour_of_day'].value_counts(dropna = True)"
   ]
  },
  {
   "cell_type": "markdown",
   "id": "d42cc70d-5095-4738-86b4-284d464f7daa",
   "metadata": {},
   "source": [
    "The busiest hour is for placing orders is 10. "
   ]
  },
  {
   "cell_type": "markdown",
   "id": "cd714e1a-f079-48a9-a346-a0135b26debc",
   "metadata": {},
   "source": [
    "#### Department ID 4 "
   ]
  },
  {
   "cell_type": "code",
   "execution_count": 133,
   "id": "c09926b5-5bb4-4323-ae81-080bf054b6c7",
   "metadata": {},
   "outputs": [],
   "source": [
    "# Determine the meaning behind a value of 4 in the \"department_id\" column within the df_prods dataframe using a data dictionary.\n",
    "# Transpose the dataframe\n",
    "df_dep_t = df_dep.T\n",
    "\n",
    "# Reset index \n",
    "df_dep_t = df_dep_t.reset_index(drop=True) \n",
    "\n",
    "# Create new header from the first row\n",
    "new_header = df_dep_t.iloc[0]\n",
    "\n",
    "# Take data from row 1 onward\n",
    "df_dep_t_new = df_dep_t[1:]\n",
    "\n",
    "# Set new header\n",
    "df_dep_t_new.columns = new_header"
   ]
  },
  {
   "cell_type": "markdown",
   "id": "c66e6707-753a-4497-95a3-aa850a64be33",
   "metadata": {},
   "source": [
    "df_dep_t_new"
   ]
  },
  {
   "cell_type": "code",
   "execution_count": 134,
   "id": "3eb2ddfe-2f51-4daf-bee9-81ce754a4950",
   "metadata": {},
   "outputs": [],
   "source": [
    "# create a data dictionary\n",
    "data_dict = df_dep_t_new.to_dict('index')"
   ]
  },
  {
   "cell_type": "code",
   "execution_count": 135,
   "id": "e0697475-8589-458e-ac83-842fe399fdba",
   "metadata": {},
   "outputs": [
    {
     "name": "stdout",
     "output_type": "stream",
     "text": [
      "{'department': 'produce'}\n"
     ]
    }
   ],
   "source": [
    "print(data_dict.get(4))"
   ]
  },
  {
   "cell_type": "markdown",
   "id": "58568c78-f753-4bf2-8eb4-cc42f8a61667",
   "metadata": {},
   "source": [
    "#### Breakfast "
   ]
  },
  {
   "cell_type": "code",
   "execution_count": 136,
   "id": "a6638899-3001-453e-9b81-8a86e860da01",
   "metadata": {},
   "outputs": [],
   "source": [
    "# The sales team in your client’s organization wants to know more about breakfast item sales. Create a subset containing only the required information.\n",
    "df_prods_breakfast = df_prods.loc[df_prods['department_id'] == 14]"
   ]
  },
  {
   "cell_type": "markdown",
   "id": "2e3e7e71-9a33-44ec-b070-223bcea04ef3",
   "metadata": {},
   "source": [
    "#### Dinner Party"
   ]
  },
  {
   "cell_type": "code",
   "execution_count": 137,
   "id": "11a95ee0-9260-4111-a255-1397ad1bd7a3",
   "metadata": {},
   "outputs": [
    {
     "data": {
      "text/plain": [
       "(12858, 5)"
      ]
     },
     "execution_count": 137,
     "metadata": {},
     "output_type": "execute_result"
    }
   ],
   "source": [
    "# Create subset for a dinner party  ( alcohol, deli, beverages, and meat/seafood ) and print its number of rows \n",
    "df_prods_dinner_party = df_prods.loc[df_prods['department_id'].isin([7,12,19,20])]\n",
    "df_prods_dinner_party.head()\n",
    "df_prods_dinner_party.shape "
   ]
  },
  {
   "cell_type": "markdown",
   "id": "649240ce-baa7-47de-82a3-7530e6aaad3b",
   "metadata": {},
   "source": [
    "#### User_id 1 "
   ]
  },
  {
   "cell_type": "code",
   "execution_count": 138,
   "id": "49ccd73f-8caf-4f78-8851-3e5dfe2bbbc2",
   "metadata": {},
   "outputs": [
    {
     "data": {
      "text/html": [
       "<div>\n",
       "<style scoped>\n",
       "    .dataframe tbody tr th:only-of-type {\n",
       "        vertical-align: middle;\n",
       "    }\n",
       "\n",
       "    .dataframe tbody tr th {\n",
       "        vertical-align: top;\n",
       "    }\n",
       "\n",
       "    .dataframe thead th {\n",
       "        text-align: right;\n",
       "    }\n",
       "</style>\n",
       "<table border=\"1\" class=\"dataframe\">\n",
       "  <thead>\n",
       "    <tr style=\"text-align: right;\">\n",
       "      <th></th>\n",
       "      <th>order_id</th>\n",
       "      <th>order_number</th>\n",
       "      <th>orders_day_of_week</th>\n",
       "      <th>order_hour_of_day</th>\n",
       "      <th>days_since_prior_order</th>\n",
       "    </tr>\n",
       "  </thead>\n",
       "  <tbody>\n",
       "    <tr>\n",
       "      <th>count</th>\n",
       "      <td>1.100000e+01</td>\n",
       "      <td>11.000000</td>\n",
       "      <td>11.000000</td>\n",
       "      <td>11.000000</td>\n",
       "      <td>10.000000</td>\n",
       "    </tr>\n",
       "    <tr>\n",
       "      <th>mean</th>\n",
       "      <td>1.923450e+06</td>\n",
       "      <td>6.000000</td>\n",
       "      <td>2.636364</td>\n",
       "      <td>10.090909</td>\n",
       "      <td>19.000000</td>\n",
       "    </tr>\n",
       "    <tr>\n",
       "      <th>std</th>\n",
       "      <td>1.071950e+06</td>\n",
       "      <td>3.316625</td>\n",
       "      <td>1.286291</td>\n",
       "      <td>3.477198</td>\n",
       "      <td>9.030811</td>\n",
       "    </tr>\n",
       "    <tr>\n",
       "      <th>min</th>\n",
       "      <td>4.315340e+05</td>\n",
       "      <td>1.000000</td>\n",
       "      <td>1.000000</td>\n",
       "      <td>7.000000</td>\n",
       "      <td>0.000000</td>\n",
       "    </tr>\n",
       "    <tr>\n",
       "      <th>25%</th>\n",
       "      <td>8.690170e+05</td>\n",
       "      <td>3.500000</td>\n",
       "      <td>1.500000</td>\n",
       "      <td>7.500000</td>\n",
       "      <td>14.250000</td>\n",
       "    </tr>\n",
       "    <tr>\n",
       "      <th>50%</th>\n",
       "      <td>2.295261e+06</td>\n",
       "      <td>6.000000</td>\n",
       "      <td>3.000000</td>\n",
       "      <td>8.000000</td>\n",
       "      <td>19.500000</td>\n",
       "    </tr>\n",
       "    <tr>\n",
       "      <th>75%</th>\n",
       "      <td>2.544846e+06</td>\n",
       "      <td>8.500000</td>\n",
       "      <td>4.000000</td>\n",
       "      <td>13.000000</td>\n",
       "      <td>26.250000</td>\n",
       "    </tr>\n",
       "    <tr>\n",
       "      <th>max</th>\n",
       "      <td>3.367565e+06</td>\n",
       "      <td>11.000000</td>\n",
       "      <td>4.000000</td>\n",
       "      <td>16.000000</td>\n",
       "      <td>30.000000</td>\n",
       "    </tr>\n",
       "  </tbody>\n",
       "</table>\n",
       "</div>"
      ],
      "text/plain": [
       "           order_id  order_number  orders_day_of_week  order_hour_of_day  \\\n",
       "count  1.100000e+01     11.000000           11.000000          11.000000   \n",
       "mean   1.923450e+06      6.000000            2.636364          10.090909   \n",
       "std    1.071950e+06      3.316625            1.286291           3.477198   \n",
       "min    4.315340e+05      1.000000            1.000000           7.000000   \n",
       "25%    8.690170e+05      3.500000            1.500000           7.500000   \n",
       "50%    2.295261e+06      6.000000            3.000000           8.000000   \n",
       "75%    2.544846e+06      8.500000            4.000000          13.000000   \n",
       "max    3.367565e+06     11.000000            4.000000          16.000000   \n",
       "\n",
       "       days_since_prior_order  \n",
       "count               10.000000  \n",
       "mean                19.000000  \n",
       "std                  9.030811  \n",
       "min                  0.000000  \n",
       "25%                 14.250000  \n",
       "50%                 19.500000  \n",
       "75%                 26.250000  \n",
       "max                 30.000000  "
      ]
     },
     "execution_count": 138,
     "metadata": {},
     "output_type": "execute_result"
    }
   ],
   "source": [
    "# Set a data frame for user_id 1\n",
    "df_user_1=df_ord.loc[df_ord['user_id'] == '1']\n",
    "df_user_1\n",
    "df_user_1.describe()"
   ]
  },
  {
   "cell_type": "markdown",
   "id": "7b77251f-42b8-400f-ae3e-f321b33205a0",
   "metadata": {},
   "source": [
    "This user typically places orders early in the week, usually around 10 AM. On average, there are 19 days between their orders."
   ]
  },
  {
   "cell_type": "markdown",
   "id": "dedd7dc3-d2ff-4756-b1d7-3cd68b5b71bd",
   "metadata": {},
   "source": [
    "#### Export the DFs"
   ]
  },
  {
   "cell_type": "code",
   "execution_count": 139,
   "id": "8f17b8c7-9eb3-45c4-9601-6dc123fb03b1",
   "metadata": {},
   "outputs": [],
   "source": [
    "df_ord.to_csv(os.path.join(path_data, '02 Data','Prepared Data', 'orders_wrangled.csv'))"
   ]
  },
  {
   "cell_type": "code",
   "execution_count": 140,
   "id": "3cb66650-1a6c-4cbb-860d-a110b2913a2b",
   "metadata": {},
   "outputs": [],
   "source": [
    "df_dep_t_new.to_csv(os.path.join(path_data, '02 Data','Prepared Data', 'departments_wrangled.csv'))"
   ]
  },
  {
   "cell_type": "code",
   "execution_count": null,
   "id": "306f2f50-47ba-49ff-a607-53fe41f3b6ea",
   "metadata": {},
   "outputs": [],
   "source": []
  }
 ],
 "metadata": {
  "kernelspec": {
   "display_name": "Python [conda env:base] *",
   "language": "python",
   "name": "conda-base-py"
  },
  "language_info": {
   "codemirror_mode": {
    "name": "ipython",
    "version": 3
   },
   "file_extension": ".py",
   "mimetype": "text/x-python",
   "name": "python",
   "nbconvert_exporter": "python",
   "pygments_lexer": "ipython3",
   "version": "3.13.5"
  }
 },
 "nbformat": 4,
 "nbformat_minor": 5
}
