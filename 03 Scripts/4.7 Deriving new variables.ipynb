{
 "cells": [
  {
   "cell_type": "markdown",
   "id": "1d62634a-44bf-400b-acf0-bd00afe11b84",
   "metadata": {},
   "source": [
    "#### Deriving New Variables"
   ]
  },
  {
   "cell_type": "code",
   "execution_count": 1,
   "id": "766b9eb8-7de0-4d09-a680-cd66f28c8910",
   "metadata": {},
   "outputs": [],
   "source": [
    "# Import libraries & Declare the path to the data files\n",
    "import pandas as pd\n",
    "import numpy as np\n",
    "import os\n",
    "path_data = r'C:\\Users\\PC\\Desktop\\CareerFoundry Data Analytics\\08-2025 Instacart Basket Analysis'"
   ]
  },
  {
   "cell_type": "code",
   "execution_count": 2,
   "id": "2bb6022e-9f3a-4c0c-9893-693a70bad356",
   "metadata": {
    "scrolled": true
   },
   "outputs": [],
   "source": [
    "# Import data \n",
    "ords_prods_merged = pd.read_pickle(os.path.join(path_data, '02 Data', 'Prepared Data','ords_prods_merged.pkl'))"
   ]
  },
  {
   "cell_type": "code",
   "execution_count": 3,
   "id": "651d619a-fc13-4f20-a861-edb812aa3707",
   "metadata": {},
   "outputs": [],
   "source": [
    "# Create a subset (slice) to avoid memory issues\n",
    "df = ords_prods_merged[:1000000]"
   ]
  },
  {
   "cell_type": "code",
   "execution_count": 4,
   "id": "f3347bc8-e903-444b-a7d7-613dca9e887a",
   "metadata": {},
   "outputs": [],
   "source": [
    "#If the item’s price is lower than or equal to $5, it will be labeled a “low-range product.”\n",
    "#If the item’s price is above $5 but lower than or equal to $15, it will be labeled a “mid-range product.”\n",
    "#If the item’s price is above $15, it will be labeled a “high-range product.”"
   ]
  },
  {
   "cell_type": "code",
   "execution_count": 5,
   "id": "0d47ab1a-674e-42d0-80b5-fab4eed9981e",
   "metadata": {},
   "outputs": [],
   "source": [
    "# Define the function\n",
    "def price_label(row):\n",
    "\n",
    "  if row['prices'] <= 5:\n",
    "    return 'Low-range product'\n",
    "  elif (row['prices'] > 5) and (row['prices'] <= 15):\n",
    "    return 'Mid-range product'\n",
    "  elif row['prices'] > 15:\n",
    "    return 'High range'\n",
    "  else: return 'Not enough data'"
   ]
  },
  {
   "cell_type": "code",
   "execution_count": 6,
   "id": "f646d888-b7b8-4aa3-b8ae-297e4a22c26a",
   "metadata": {
    "scrolled": true
   },
   "outputs": [
    {
     "name": "stderr",
     "output_type": "stream",
     "text": [
      "C:\\Users\\PC\\AppData\\Local\\Temp\\ipykernel_12772\\902492192.py:2: SettingWithCopyWarning: \n",
      "A value is trying to be set on a copy of a slice from a DataFrame.\n",
      "Try using .loc[row_indexer,col_indexer] = value instead\n",
      "\n",
      "See the caveats in the documentation: https://pandas.pydata.org/pandas-docs/stable/user_guide/indexing.html#returning-a-view-versus-a-copy\n",
      "  df['price_range'] = df.apply(price_label, axis=1)\n"
     ]
    }
   ],
   "source": [
    "# Apply the function\n",
    "df['price_range'] = df.apply(price_label, axis=1)"
   ]
  },
  {
   "cell_type": "code",
   "execution_count": 7,
   "id": "f2ece9b2-19e0-4939-99d3-5961f0d13bf6",
   "metadata": {},
   "outputs": [
    {
     "data": {
      "text/plain": [
       "price_range\n",
       "Mid-range product    673183\n",
       "Low-range product    314392\n",
       "High range            12425\n",
       "Name: count, dtype: int64"
      ]
     },
     "execution_count": 7,
     "metadata": {},
     "output_type": "execute_result"
    }
   ],
   "source": [
    "df['price_range'].value_counts(dropna = False)"
   ]
  },
  {
   "cell_type": "code",
   "execution_count": 8,
   "id": "b1423cad-1f4b-41b5-942f-68908ffcd037",
   "metadata": {},
   "outputs": [
    {
     "data": {
      "text/plain": [
       "99999.0"
      ]
     },
     "execution_count": 8,
     "metadata": {},
     "output_type": "execute_result"
    }
   ],
   "source": [
    "# Determine the most expensive product\n",
    "df['prices'].max()"
   ]
  },
  {
   "cell_type": "code",
   "execution_count": 9,
   "id": "e8d5cde0-40c9-4d51-b12a-e004444a5e99",
   "metadata": {},
   "outputs": [],
   "source": [
    "## Test the results using the loc() function "
   ]
  },
  {
   "cell_type": "code",
   "execution_count": 10,
   "id": "578d7ab7-b035-4686-a719-58d10dcd0fc2",
   "metadata": {},
   "outputs": [
    {
     "name": "stderr",
     "output_type": "stream",
     "text": [
      "C:\\Users\\PC\\AppData\\Local\\Temp\\ipykernel_12772\\1169838859.py:1: SettingWithCopyWarning: \n",
      "A value is trying to be set on a copy of a slice from a DataFrame.\n",
      "Try using .loc[row_indexer,col_indexer] = value instead\n",
      "\n",
      "See the caveats in the documentation: https://pandas.pydata.org/pandas-docs/stable/user_guide/indexing.html#returning-a-view-versus-a-copy\n",
      "  df.loc[df['prices'] > 15, 'price_range_loc'] = 'High-range product'\n"
     ]
    }
   ],
   "source": [
    "df.loc[df['prices'] > 15, 'price_range_loc'] = 'High-range product'"
   ]
  },
  {
   "cell_type": "code",
   "execution_count": 11,
   "id": "bc871d5e-20c2-4799-b749-f3e8ace10d5a",
   "metadata": {},
   "outputs": [],
   "source": [
    "df.loc[(df['prices'] <= 15) & (df['prices'] > 5), 'price_range_loc'] = 'Mid-range product' "
   ]
  },
  {
   "cell_type": "code",
   "execution_count": 12,
   "id": "757aca47-6354-4f25-a4c2-bdd5c04ad1ec",
   "metadata": {},
   "outputs": [],
   "source": [
    "df.loc[df['prices'] <= 5, 'price_range_loc'] = 'Low-range product'"
   ]
  },
  {
   "cell_type": "code",
   "execution_count": 13,
   "id": "871c5d40-73e9-4f40-a8ae-7cbfff47b7c8",
   "metadata": {},
   "outputs": [
    {
     "data": {
      "text/plain": [
       "price_range\n",
       "Mid-range product    673183\n",
       "Low-range product    314392\n",
       "High range            12425\n",
       "Name: count, dtype: int64"
      ]
     },
     "execution_count": 13,
     "metadata": {},
     "output_type": "execute_result"
    }
   ],
   "source": [
    "df['price_range'].value_counts(dropna = False)"
   ]
  },
  {
   "cell_type": "markdown",
   "id": "21c0519b-7e4b-4258-9758-f8c92aac8f99",
   "metadata": {},
   "source": [
    "The if statement and the loc() function give the same results. "
   ]
  },
  {
   "cell_type": "code",
   "execution_count": 14,
   "id": "6dec994e-c81c-4338-9614-f8fd4f0b13ca",
   "metadata": {},
   "outputs": [],
   "source": [
    "## For - loops"
   ]
  },
  {
   "cell_type": "code",
   "execution_count": 15,
   "id": "6f54549e-3dd2-4a19-9e48-fe1216ff1b72",
   "metadata": {},
   "outputs": [
    {
     "data": {
      "text/plain": [
       "orders_day_of_week\n",
       "0    6204182\n",
       "1    5660230\n",
       "6    4496490\n",
       "2    4213830\n",
       "5    4205791\n",
       "3    3840534\n",
       "4    3783802\n",
       "Name: count, dtype: int64"
      ]
     },
     "execution_count": 15,
     "metadata": {},
     "output_type": "execute_result"
    }
   ],
   "source": [
    "ords_prods_merged['orders_day_of_week'].value_counts(dropna = False)"
   ]
  },
  {
   "cell_type": "code",
   "execution_count": 16,
   "id": "e3c191d5-85aa-40c0-b502-5fe3721c3c6b",
   "metadata": {},
   "outputs": [],
   "source": [
    "# Create a new column, “busiest day,” that will contain one of three different values: “Busiest day,” “Least busy,” and “Regularly busy.”\n",
    "\n",
    "result = []\n",
    "                        \n",
    "for value in ords_prods_merged[\"orders_day_of_week\"]:\n",
    "  if value == 0:\n",
    "    result.append(\"Busiest day\")\n",
    "  elif value == 4:\n",
    "    result.append(\"Least busy\")\n",
    "  else:\n",
    "    result.append(\"Regularly busy\")"
   ]
  },
  {
   "cell_type": "code",
   "execution_count": 17,
   "id": "97dd5422-3f7b-4a03-8b1f-6eff1eff3c74",
   "metadata": {},
   "outputs": [],
   "source": [
    "ords_prods_merged['busiest_day'] = result "
   ]
  },
  {
   "cell_type": "code",
   "execution_count": 18,
   "id": "676a392f-2748-40fd-905b-9b528af8ac0c",
   "metadata": {},
   "outputs": [
    {
     "data": {
      "text/plain": [
       "busiest_day\n",
       "Regularly busy    22416875\n",
       "Busiest day        6204182\n",
       "Least busy         3783802\n",
       "Name: count, dtype: int64"
      ]
     },
     "execution_count": 18,
     "metadata": {},
     "output_type": "execute_result"
    }
   ],
   "source": [
    "ords_prods_merged['busiest_day'].value_counts(dropna = False) "
   ]
  },
  {
   "cell_type": "code",
   "execution_count": 19,
   "id": "86a9804b-1b33-41ac-954a-449c716f5153",
   "metadata": {},
   "outputs": [
    {
     "data": {
      "text/plain": [
       "(32404859, 19)"
      ]
     },
     "execution_count": 19,
     "metadata": {},
     "output_type": "execute_result"
    }
   ],
   "source": [
    "ords_prods_merged.shape"
   ]
  },
  {
   "cell_type": "markdown",
   "id": "6c10611e-1ca6-43c3-8050-282aeb7d1bfd",
   "metadata": {},
   "source": [
    "1. Create a new column for the 2 busiest and 2 least busy days"
   ]
  },
  {
   "cell_type": "markdown",
   "id": "a7c1cfca-9d05-4436-8d6c-5028cb18558a",
   "metadata": {},
   "source": [
    "I will use an if–else function to create the new column. The values for the two busiest days (0 and 1) will be assigned to the first condition, while the least busy days (3 and 4) will be assigned to the second condition. The new column will be named how_busy. The column will be added to the df. "
   ]
  },
  {
   "cell_type": "code",
   "execution_count": 20,
   "id": "af14efa0-ab3c-477c-8a61-2a7b584b0b7d",
   "metadata": {},
   "outputs": [],
   "source": [
    "result2 = []\n",
    "                        \n",
    "for value in ords_prods_merged[\"orders_day_of_week\"]:\n",
    "  if value == 0 or value == 1:\n",
    "    result2.append(\"Busy day\")\n",
    "  elif value == 4 or value == 3:\n",
    "    result2.append(\"Less busy\")\n",
    "  else:\n",
    "    result2.append(\"Regularly busy\")"
   ]
  },
  {
   "cell_type": "code",
   "execution_count": 21,
   "id": "bfe05681-4482-41f4-afd7-c18eb467d103",
   "metadata": {},
   "outputs": [],
   "source": [
    "ords_prods_merged['how_busy'] = result2 "
   ]
  },
  {
   "cell_type": "code",
   "execution_count": 22,
   "id": "4153c961-8b7f-4f15-b107-054ae6ad0d05",
   "metadata": {},
   "outputs": [
    {
     "data": {
      "text/plain": [
       "how_busy\n",
       "Regularly busy    12916111\n",
       "Busy day          11864412\n",
       "Less busy          7624336\n",
       "Name: count, dtype: int64"
      ]
     },
     "execution_count": 22,
     "metadata": {},
     "output_type": "execute_result"
    }
   ],
   "source": [
    "ords_prods_merged['how_busy'].value_counts(dropna = False)"
   ]
  },
  {
   "cell_type": "markdown",
   "id": "a48be843-14cd-4a0c-bc89-ddeb65439444",
   "metadata": {},
   "source": [
    "The count of the busy days (0 and 1), 11864412 in the new column matches their combined count in the orders_day_of_week column:\n",
    "0    6204182\n",
    "1    5660230\n",
    "The same applies to the less busy and regularly busy days. "
   ]
  },
  {
   "cell_type": "markdown",
   "id": "3b1e4b44-3289-4e15-9bf4-93c43bc5b1c8",
   "metadata": {},
   "source": [
    "2. The senior technical officer at Instacart wants you to identify the busiest hours of the day. Rather than by hour, they want periods of time labeled “Most orders,” “Average orders,” and “Fewest orders.” Create a new column containing these labels called “busiest_period_of_day“. Results must be printed in a new column. "
   ]
  },
  {
   "cell_type": "markdown",
   "id": "a9b2370a-5f06-4518-89fa-71bdadeecebe",
   "metadata": {},
   "source": [
    "Let’s start with an analysis of the orders per hour to determine the appropriate time slots."
   ]
  },
  {
   "cell_type": "code",
   "execution_count": 23,
   "id": "ed49a549-b6b2-48ad-bf00-1fbe5c490516",
   "metadata": {},
   "outputs": [
    {
     "data": {
      "text/plain": [
       "order_hour_of_day\n",
       "10    2761760\n",
       "11    2736140\n",
       "14    2689136\n",
       "15    2662144\n",
       "13    2660954\n",
       "12    2618532\n",
       "16    2535202\n",
       "9     2454203\n",
       "17    2087654\n",
       "8     1718118\n",
       "18    1636502\n",
       "19    1258305\n",
       "20     976156\n",
       "7      891054\n",
       "21     795637\n",
       "22     634225\n",
       "23     402316\n",
       "6      290493\n",
       "0      218769\n",
       "1      115700\n",
       "5       87961\n",
       "2       69375\n",
       "4       53242\n",
       "3       51281\n",
       "Name: count, dtype: int64"
      ]
     },
     "execution_count": 23,
     "metadata": {},
     "output_type": "execute_result"
    }
   ],
   "source": [
    "ords_prods_merged['order_hour_of_day'].value_counts(dropna = False)"
   ]
  },
  {
   "cell_type": "markdown",
   "id": "31eb05bc-a8e0-457a-8d2c-0cb4438d8f9b",
   "metadata": {},
   "source": [
    "The orders can be grouped as follows:\n",
    "0–7 - Fewest orders\n",
    "8–19 - Most orders\n",
    "20–23 - Average orders\n",
    "\n",
    "I will create a new list called how_many_orders_per_hour and fill it by looping through each value in the column order_hour_of_day.\n",
    "If the hour is between 0 and 7, the label “Fewest orders” is added.\n",
    "If the hour is between 8 and 19, the label “Most orders” is added.\n",
    "If the hour is between 20 and 23, the label “Average orders” is added.\n",
    "\n",
    "The new list is assigned as a new column in the dataframe called busiest_period_of_day, so that each order is categorized according to the time of day it was placed."
   ]
  },
  {
   "cell_type": "code",
   "execution_count": 24,
   "id": "c338a302-2b4e-4c72-8455-009d50af9d12",
   "metadata": {},
   "outputs": [],
   "source": [
    "how_many_orders_per_hour = []\n",
    "                        \n",
    "for value in ords_prods_merged[\"order_hour_of_day\"]:\n",
    "  if value <= 7:\n",
    "    how_many_orders_per_hour.append(\"Fewest orders\")\n",
    "  elif value >= 8 and value <= 19:\n",
    "    how_many_orders_per_hour.append(\"Most orders\")\n",
    "  else:\n",
    "    how_many_orders_per_hour.append(\"Average orders\")\n",
    "\n",
    "ords_prods_merged['busiest_period_of_day'] = how_many_orders_per_hour "
   ]
  },
  {
   "cell_type": "code",
   "execution_count": 25,
   "id": "be34db65-0dd6-4f26-a978-d898b7d79252",
   "metadata": {},
   "outputs": [
    {
     "data": {
      "text/plain": [
       "busiest_period_of_day\n",
       "Most orders       27818650\n",
       "Average orders     2808334\n",
       "Fewest orders      1777875\n",
       "Name: count, dtype: int64"
      ]
     },
     "execution_count": 25,
     "metadata": {},
     "output_type": "execute_result"
    }
   ],
   "source": [
    "ords_prods_merged['busiest_period_of_day'].value_counts(dropna = False)"
   ]
  },
  {
   "cell_type": "markdown",
   "id": "a7331642-2320-426d-bdf8-0b651fcc389f",
   "metadata": {},
   "source": [
    "Export the dataframe in a pkl format"
   ]
  },
  {
   "cell_type": "code",
   "execution_count": 26,
   "id": "c47d7421-e8e2-4a11-9cc4-6fa024e55584",
   "metadata": {},
   "outputs": [],
   "source": [
    "ords_prods_merged.to_pickle(os.path.join(path_data, '02 Data','Prepared Data', 'ords_prods_merged_busiest_days_and_hours.pkl'))"
   ]
  }
 ],
 "metadata": {
  "kernelspec": {
   "display_name": "Python [conda env:base] *",
   "language": "python",
   "name": "conda-base-py"
  },
  "language_info": {
   "codemirror_mode": {
    "name": "ipython",
    "version": 3
   },
   "file_extension": ".py",
   "mimetype": "text/x-python",
   "name": "python",
   "nbconvert_exporter": "python",
   "pygments_lexer": "ipython3",
   "version": "3.13.5"
  }
 },
 "nbformat": 4,
 "nbformat_minor": 5
}
