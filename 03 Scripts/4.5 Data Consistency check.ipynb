{
 "cells": [
  {
   "cell_type": "markdown",
   "id": "1d62634a-44bf-400b-acf0-bd00afe11b84",
   "metadata": {},
   "source": [
    "#### Data Consistency Check"
   ]
  },
  {
   "cell_type": "code",
   "execution_count": 456,
   "id": "766b9eb8-7de0-4d09-a680-cd66f28c8910",
   "metadata": {},
   "outputs": [],
   "source": [
    "# Import libraries & Declare the path to the data files\n",
    "import pandas as pd\n",
    "import numpy as np\n",
    "import os\n",
    "path = r'C:\\Users\\PC\\Desktop\\CareerFoundry Data Analytics\\08-2025 Instacart Basket Analysis\\02 Data\\Original Data'\n",
    "path_data = r'C:\\Users\\PC\\Desktop\\CareerFoundry Data Analytics\\08-2025 Instacart Basket Analysis'"
   ]
  },
  {
   "cell_type": "code",
   "execution_count": 457,
   "id": "2bb6022e-9f3a-4c0c-9893-693a70bad356",
   "metadata": {},
   "outputs": [],
   "source": [
    "# Import data \n",
    "df_ord = pd.read_csv(os.path.join(path, 'orders.csv'), index_col=False)\n",
    "df_prods = pd.read_csv(os.path.join(path, 'products.csv'), index_col=False)\n",
    "df_dep = pd.read_csv(os.path.join(path, 'departments.csv'), index_col = False)\n",
    "df_ord = df_ord.drop(columns = ['eval_set'])"
   ]
  },
  {
   "cell_type": "code",
   "execution_count": 458,
   "id": "f3347bc8-e903-444b-a7d7-613dca9e887a",
   "metadata": {},
   "outputs": [],
   "source": [
    "# Find another identifier variable in the df_ords dataframe that doesn’t need to be included in your analysis as a numeric variable and change it to a suitable format.\n",
    "df_ord['user_id'] = df_ord['user_id'].astype('str')"
   ]
  },
  {
   "cell_type": "code",
   "execution_count": 459,
   "id": "0d47ab1a-674e-42d0-80b5-fab4eed9981e",
   "metadata": {},
   "outputs": [],
   "source": [
    "# Look for a variable in your df_ords dataframe with an unintuitive name and change its name without overwriting the dataframe.\n",
    "df_ord.rename(columns = {'order_dow' : 'orders_day_of_week'}, inplace = True)"
   ]
  },
  {
   "cell_type": "code",
   "execution_count": 460,
   "id": "f646d888-b7b8-4aa3-b8ae-297e4a22c26a",
   "metadata": {},
   "outputs": [],
   "source": [
    "#### df_prods"
   ]
  },
  {
   "cell_type": "code",
   "execution_count": 461,
   "id": "f2ece9b2-19e0-4939-99d3-5961f0d13bf6",
   "metadata": {},
   "outputs": [],
   "source": [
    "#### 1.1 Check for mixed values "
   ]
  },
  {
   "cell_type": "code",
   "execution_count": 462,
   "id": "b1423cad-1f4b-41b5-942f-68908ffcd037",
   "metadata": {},
   "outputs": [
    {
     "name": "stdout",
     "output_type": "stream",
     "text": [
      "product_name\n"
     ]
    }
   ],
   "source": [
    "for col in df_prods.columns.tolist():\n",
    "  weird = (df_prods[[col]].map(type) != df_prods[[col]].iloc[0].apply(type)).any(axis = 1)\n",
    "  if len (df_prods[weird]) > 0:\n",
    "    print (col)"
   ]
  },
  {
   "cell_type": "code",
   "execution_count": 463,
   "id": "e8d5cde0-40c9-4d51-b12a-e004444a5e99",
   "metadata": {},
   "outputs": [],
   "source": [
    "#df_prods['product_name'] = df_prods['product_name'].astype('str') - I tried to change the type of the mixed values to string, but if I do so, I can't identify the missing values later"
   ]
  },
  {
   "cell_type": "code",
   "execution_count": 464,
   "id": "e3c5f66a-2dc0-4f9d-87db-2602b82d814b",
   "metadata": {},
   "outputs": [],
   "source": [
    "#### 1.2 Check for missing values"
   ]
  },
  {
   "cell_type": "code",
   "execution_count": 465,
   "id": "13c60aef-c8ae-4c99-a1ee-b1e9f116c13a",
   "metadata": {},
   "outputs": [
    {
     "data": {
      "text/html": [
       "<div>\n",
       "<style scoped>\n",
       "    .dataframe tbody tr th:only-of-type {\n",
       "        vertical-align: middle;\n",
       "    }\n",
       "\n",
       "    .dataframe tbody tr th {\n",
       "        vertical-align: top;\n",
       "    }\n",
       "\n",
       "    .dataframe thead th {\n",
       "        text-align: right;\n",
       "    }\n",
       "</style>\n",
       "<table border=\"1\" class=\"dataframe\">\n",
       "  <thead>\n",
       "    <tr style=\"text-align: right;\">\n",
       "      <th></th>\n",
       "      <th>product_id</th>\n",
       "      <th>product_name</th>\n",
       "      <th>aisle_id</th>\n",
       "      <th>department_id</th>\n",
       "      <th>prices</th>\n",
       "    </tr>\n",
       "  </thead>\n",
       "  <tbody>\n",
       "    <tr>\n",
       "      <th>33</th>\n",
       "      <td>34</td>\n",
       "      <td>NaN</td>\n",
       "      <td>121</td>\n",
       "      <td>14</td>\n",
       "      <td>12.2</td>\n",
       "    </tr>\n",
       "    <tr>\n",
       "      <th>68</th>\n",
       "      <td>69</td>\n",
       "      <td>NaN</td>\n",
       "      <td>26</td>\n",
       "      <td>7</td>\n",
       "      <td>11.8</td>\n",
       "    </tr>\n",
       "    <tr>\n",
       "      <th>115</th>\n",
       "      <td>116</td>\n",
       "      <td>NaN</td>\n",
       "      <td>93</td>\n",
       "      <td>3</td>\n",
       "      <td>10.8</td>\n",
       "    </tr>\n",
       "    <tr>\n",
       "      <th>261</th>\n",
       "      <td>262</td>\n",
       "      <td>NaN</td>\n",
       "      <td>110</td>\n",
       "      <td>13</td>\n",
       "      <td>12.1</td>\n",
       "    </tr>\n",
       "    <tr>\n",
       "      <th>525</th>\n",
       "      <td>525</td>\n",
       "      <td>NaN</td>\n",
       "      <td>109</td>\n",
       "      <td>11</td>\n",
       "      <td>1.2</td>\n",
       "    </tr>\n",
       "    <tr>\n",
       "      <th>1511</th>\n",
       "      <td>1511</td>\n",
       "      <td>NaN</td>\n",
       "      <td>84</td>\n",
       "      <td>16</td>\n",
       "      <td>14.3</td>\n",
       "    </tr>\n",
       "    <tr>\n",
       "      <th>1780</th>\n",
       "      <td>1780</td>\n",
       "      <td>NaN</td>\n",
       "      <td>126</td>\n",
       "      <td>11</td>\n",
       "      <td>12.3</td>\n",
       "    </tr>\n",
       "    <tr>\n",
       "      <th>2240</th>\n",
       "      <td>2240</td>\n",
       "      <td>NaN</td>\n",
       "      <td>52</td>\n",
       "      <td>1</td>\n",
       "      <td>14.2</td>\n",
       "    </tr>\n",
       "    <tr>\n",
       "      <th>2586</th>\n",
       "      <td>2586</td>\n",
       "      <td>NaN</td>\n",
       "      <td>104</td>\n",
       "      <td>13</td>\n",
       "      <td>12.4</td>\n",
       "    </tr>\n",
       "    <tr>\n",
       "      <th>3159</th>\n",
       "      <td>3159</td>\n",
       "      <td>NaN</td>\n",
       "      <td>126</td>\n",
       "      <td>11</td>\n",
       "      <td>13.1</td>\n",
       "    </tr>\n",
       "    <tr>\n",
       "      <th>3230</th>\n",
       "      <td>3230</td>\n",
       "      <td>NaN</td>\n",
       "      <td>120</td>\n",
       "      <td>16</td>\n",
       "      <td>14.4</td>\n",
       "    </tr>\n",
       "    <tr>\n",
       "      <th>3736</th>\n",
       "      <td>3736</td>\n",
       "      <td>NaN</td>\n",
       "      <td>41</td>\n",
       "      <td>8</td>\n",
       "      <td>14.8</td>\n",
       "    </tr>\n",
       "    <tr>\n",
       "      <th>4283</th>\n",
       "      <td>4283</td>\n",
       "      <td>NaN</td>\n",
       "      <td>77</td>\n",
       "      <td>7</td>\n",
       "      <td>14.4</td>\n",
       "    </tr>\n",
       "    <tr>\n",
       "      <th>4790</th>\n",
       "      <td>4790</td>\n",
       "      <td>NaN</td>\n",
       "      <td>91</td>\n",
       "      <td>16</td>\n",
       "      <td>14.5</td>\n",
       "    </tr>\n",
       "    <tr>\n",
       "      <th>38187</th>\n",
       "      <td>38183</td>\n",
       "      <td>NaN</td>\n",
       "      <td>39</td>\n",
       "      <td>12</td>\n",
       "      <td>20.9</td>\n",
       "    </tr>\n",
       "    <tr>\n",
       "      <th>40444</th>\n",
       "      <td>40440</td>\n",
       "      <td>NaN</td>\n",
       "      <td>120</td>\n",
       "      <td>16</td>\n",
       "      <td>14.8</td>\n",
       "    </tr>\n",
       "  </tbody>\n",
       "</table>\n",
       "</div>"
      ],
      "text/plain": [
       "       product_id product_name  aisle_id  department_id  prices\n",
       "33             34          NaN       121             14    12.2\n",
       "68             69          NaN        26              7    11.8\n",
       "115           116          NaN        93              3    10.8\n",
       "261           262          NaN       110             13    12.1\n",
       "525           525          NaN       109             11     1.2\n",
       "1511         1511          NaN        84             16    14.3\n",
       "1780         1780          NaN       126             11    12.3\n",
       "2240         2240          NaN        52              1    14.2\n",
       "2586         2586          NaN       104             13    12.4\n",
       "3159         3159          NaN       126             11    13.1\n",
       "3230         3230          NaN       120             16    14.4\n",
       "3736         3736          NaN        41              8    14.8\n",
       "4283         4283          NaN        77              7    14.4\n",
       "4790         4790          NaN        91             16    14.5\n",
       "38187       38183          NaN        39             12    20.9\n",
       "40444       40440          NaN       120             16    14.8"
      ]
     },
     "execution_count": 465,
     "metadata": {},
     "output_type": "execute_result"
    }
   ],
   "source": [
    "df_prods.isnull().sum()\n",
    "\n",
    "# Create a new dataframe, df_nan, containing on the values within the 'product_name' column that meets the condition of 'isnull()' true\n",
    "df_nan = df_prods[df_prods['product_name'].isnull() == True]\n",
    "df_nan"
   ]
  },
  {
   "cell_type": "code",
   "execution_count": 466,
   "id": "dea4976b-0ce6-4933-b066-f843fbc17bf9",
   "metadata": {},
   "outputs": [
    {
     "data": {
      "text/plain": [
       "(16, 5)"
      ]
     },
     "execution_count": 466,
     "metadata": {},
     "output_type": "execute_result"
    }
   ],
   "source": [
    "df_nan.shape"
   ]
  },
  {
   "cell_type": "code",
   "execution_count": 467,
   "id": "655ad517-ec6f-4827-9e02-bcf025d02cb4",
   "metadata": {},
   "outputs": [
    {
     "data": {
      "text/plain": [
       "(49677, 5)"
      ]
     },
     "execution_count": 467,
     "metadata": {},
     "output_type": "execute_result"
    }
   ],
   "source": [
    "# Create a new dataframe, setting the 'isnull()' condition to False so that only non-missing values are present\n",
    "df_prods_clean = df_prods[df_prods['product_name'].isnull() == False]\n",
    "df_prods_clean.shape"
   ]
  },
  {
   "cell_type": "code",
   "execution_count": 468,
   "id": "bfa0126a-dbc8-48ca-bf29-479da6bd7f59",
   "metadata": {},
   "outputs": [],
   "source": [
    "#### 1.3 Check for duplicates in the cleaned df "
   ]
  },
  {
   "cell_type": "code",
   "execution_count": 469,
   "id": "7a983aef-f3a5-4246-967d-7ce672cdacbf",
   "metadata": {},
   "outputs": [
    {
     "data": {
      "text/html": [
       "<div>\n",
       "<style scoped>\n",
       "    .dataframe tbody tr th:only-of-type {\n",
       "        vertical-align: middle;\n",
       "    }\n",
       "\n",
       "    .dataframe tbody tr th {\n",
       "        vertical-align: top;\n",
       "    }\n",
       "\n",
       "    .dataframe thead th {\n",
       "        text-align: right;\n",
       "    }\n",
       "</style>\n",
       "<table border=\"1\" class=\"dataframe\">\n",
       "  <thead>\n",
       "    <tr style=\"text-align: right;\">\n",
       "      <th></th>\n",
       "      <th>product_id</th>\n",
       "      <th>product_name</th>\n",
       "      <th>aisle_id</th>\n",
       "      <th>department_id</th>\n",
       "      <th>prices</th>\n",
       "    </tr>\n",
       "  </thead>\n",
       "  <tbody>\n",
       "    <tr>\n",
       "      <th>462</th>\n",
       "      <td>462</td>\n",
       "      <td>Fiber 4g Gummy Dietary Supplement</td>\n",
       "      <td>70</td>\n",
       "      <td>11</td>\n",
       "      <td>4.8</td>\n",
       "    </tr>\n",
       "    <tr>\n",
       "      <th>18459</th>\n",
       "      <td>18458</td>\n",
       "      <td>Ranger IPA</td>\n",
       "      <td>27</td>\n",
       "      <td>5</td>\n",
       "      <td>9.2</td>\n",
       "    </tr>\n",
       "    <tr>\n",
       "      <th>26810</th>\n",
       "      <td>26808</td>\n",
       "      <td>Black House Coffee Roasty Stout Beer</td>\n",
       "      <td>27</td>\n",
       "      <td>5</td>\n",
       "      <td>13.4</td>\n",
       "    </tr>\n",
       "    <tr>\n",
       "      <th>35309</th>\n",
       "      <td>35306</td>\n",
       "      <td>Gluten Free Organic Peanut Butter &amp; Chocolate ...</td>\n",
       "      <td>121</td>\n",
       "      <td>14</td>\n",
       "      <td>6.8</td>\n",
       "    </tr>\n",
       "    <tr>\n",
       "      <th>35495</th>\n",
       "      <td>35491</td>\n",
       "      <td>Adore Forever Body Wash</td>\n",
       "      <td>127</td>\n",
       "      <td>11</td>\n",
       "      <td>9.9</td>\n",
       "    </tr>\n",
       "  </tbody>\n",
       "</table>\n",
       "</div>"
      ],
      "text/plain": [
       "       product_id                                       product_name  \\\n",
       "462           462                  Fiber 4g Gummy Dietary Supplement   \n",
       "18459       18458                                         Ranger IPA   \n",
       "26810       26808               Black House Coffee Roasty Stout Beer   \n",
       "35309       35306  Gluten Free Organic Peanut Butter & Chocolate ...   \n",
       "35495       35491                            Adore Forever Body Wash   \n",
       "\n",
       "       aisle_id  department_id  prices  \n",
       "462          70             11     4.8  \n",
       "18459        27              5     9.2  \n",
       "26810        27              5    13.4  \n",
       "35309       121             14     6.8  \n",
       "35495       127             11     9.9  "
      ]
     },
     "execution_count": 469,
     "metadata": {},
     "output_type": "execute_result"
    }
   ],
   "source": [
    "df_dups = df_prods_clean[df_prods_clean.duplicated()]\n",
    "df_dups"
   ]
  },
  {
   "cell_type": "code",
   "execution_count": 470,
   "id": "3eb2ddfe-2f51-4daf-bee9-81ce754a4950",
   "metadata": {},
   "outputs": [
    {
     "data": {
      "text/plain": [
       "(49672, 5)"
      ]
     },
     "execution_count": 470,
     "metadata": {},
     "output_type": "execute_result"
    }
   ],
   "source": [
    "# Remove the duplicate values \n",
    "df_prods_clean_no_dups = df_prods_clean.drop_duplicates()\n",
    "df_prods_clean_no_dups.shape"
   ]
  },
  {
   "cell_type": "code",
   "execution_count": 471,
   "id": "914c0797-1f6b-4b24-b818-2adc6922c82d",
   "metadata": {},
   "outputs": [],
   "source": [
    "df_prods['product_name'] = df_prods['product_name'].astype('str')"
   ]
  },
  {
   "cell_type": "code",
   "execution_count": 472,
   "id": "572126cb-5ffa-46b0-963c-2a41dc564e58",
   "metadata": {},
   "outputs": [],
   "source": [
    "#### 1.4 Export the cleaned and updated version of the df "
   ]
  },
  {
   "cell_type": "code",
   "execution_count": 473,
   "id": "a6638899-3001-453e-9b81-8a86e860da01",
   "metadata": {
    "scrolled": true
   },
   "outputs": [],
   "source": [
    "df_prods_clean_no_dups.to_csv(os.path.join(path_data, '02 Data','Prepared Data', 'products_cleaned.csv'))"
   ]
  },
  {
   "cell_type": "code",
   "execution_count": 474,
   "id": "c67864ae-bb44-46a2-9140-b13becdceede",
   "metadata": {},
   "outputs": [],
   "source": [
    "#### df_ord"
   ]
  },
  {
   "cell_type": "code",
   "execution_count": 475,
   "id": "046cfd21-f5d8-4fd9-8c01-49d5850e4acd",
   "metadata": {},
   "outputs": [
    {
     "data": {
      "text/html": [
       "<div>\n",
       "<style scoped>\n",
       "    .dataframe tbody tr th:only-of-type {\n",
       "        vertical-align: middle;\n",
       "    }\n",
       "\n",
       "    .dataframe tbody tr th {\n",
       "        vertical-align: top;\n",
       "    }\n",
       "\n",
       "    .dataframe thead th {\n",
       "        text-align: right;\n",
       "    }\n",
       "</style>\n",
       "<table border=\"1\" class=\"dataframe\">\n",
       "  <thead>\n",
       "    <tr style=\"text-align: right;\">\n",
       "      <th></th>\n",
       "      <th>order_id</th>\n",
       "      <th>order_number</th>\n",
       "      <th>orders_day_of_week</th>\n",
       "      <th>order_hour_of_day</th>\n",
       "      <th>days_since_prior_order</th>\n",
       "    </tr>\n",
       "  </thead>\n",
       "  <tbody>\n",
       "    <tr>\n",
       "      <th>count</th>\n",
       "      <td>3.421083e+06</td>\n",
       "      <td>3.421083e+06</td>\n",
       "      <td>3.421083e+06</td>\n",
       "      <td>3.421083e+06</td>\n",
       "      <td>3.214874e+06</td>\n",
       "    </tr>\n",
       "    <tr>\n",
       "      <th>mean</th>\n",
       "      <td>1.710542e+06</td>\n",
       "      <td>1.715486e+01</td>\n",
       "      <td>2.776219e+00</td>\n",
       "      <td>1.345202e+01</td>\n",
       "      <td>1.111484e+01</td>\n",
       "    </tr>\n",
       "    <tr>\n",
       "      <th>std</th>\n",
       "      <td>9.875817e+05</td>\n",
       "      <td>1.773316e+01</td>\n",
       "      <td>2.046829e+00</td>\n",
       "      <td>4.226088e+00</td>\n",
       "      <td>9.206737e+00</td>\n",
       "    </tr>\n",
       "    <tr>\n",
       "      <th>min</th>\n",
       "      <td>1.000000e+00</td>\n",
       "      <td>1.000000e+00</td>\n",
       "      <td>0.000000e+00</td>\n",
       "      <td>0.000000e+00</td>\n",
       "      <td>0.000000e+00</td>\n",
       "    </tr>\n",
       "    <tr>\n",
       "      <th>25%</th>\n",
       "      <td>8.552715e+05</td>\n",
       "      <td>5.000000e+00</td>\n",
       "      <td>1.000000e+00</td>\n",
       "      <td>1.000000e+01</td>\n",
       "      <td>4.000000e+00</td>\n",
       "    </tr>\n",
       "    <tr>\n",
       "      <th>50%</th>\n",
       "      <td>1.710542e+06</td>\n",
       "      <td>1.100000e+01</td>\n",
       "      <td>3.000000e+00</td>\n",
       "      <td>1.300000e+01</td>\n",
       "      <td>7.000000e+00</td>\n",
       "    </tr>\n",
       "    <tr>\n",
       "      <th>75%</th>\n",
       "      <td>2.565812e+06</td>\n",
       "      <td>2.300000e+01</td>\n",
       "      <td>5.000000e+00</td>\n",
       "      <td>1.600000e+01</td>\n",
       "      <td>1.500000e+01</td>\n",
       "    </tr>\n",
       "    <tr>\n",
       "      <th>max</th>\n",
       "      <td>3.421083e+06</td>\n",
       "      <td>1.000000e+02</td>\n",
       "      <td>6.000000e+00</td>\n",
       "      <td>2.300000e+01</td>\n",
       "      <td>3.000000e+01</td>\n",
       "    </tr>\n",
       "  </tbody>\n",
       "</table>\n",
       "</div>"
      ],
      "text/plain": [
       "           order_id  order_number  orders_day_of_week  order_hour_of_day  \\\n",
       "count  3.421083e+06  3.421083e+06        3.421083e+06       3.421083e+06   \n",
       "mean   1.710542e+06  1.715486e+01        2.776219e+00       1.345202e+01   \n",
       "std    9.875817e+05  1.773316e+01        2.046829e+00       4.226088e+00   \n",
       "min    1.000000e+00  1.000000e+00        0.000000e+00       0.000000e+00   \n",
       "25%    8.552715e+05  5.000000e+00        1.000000e+00       1.000000e+01   \n",
       "50%    1.710542e+06  1.100000e+01        3.000000e+00       1.300000e+01   \n",
       "75%    2.565812e+06  2.300000e+01        5.000000e+00       1.600000e+01   \n",
       "max    3.421083e+06  1.000000e+02        6.000000e+00       2.300000e+01   \n",
       "\n",
       "       days_since_prior_order  \n",
       "count            3.214874e+06  \n",
       "mean             1.111484e+01  \n",
       "std              9.206737e+00  \n",
       "min              0.000000e+00  \n",
       "25%              4.000000e+00  \n",
       "50%              7.000000e+00  \n",
       "75%              1.500000e+01  \n",
       "max              3.000000e+01  "
      ]
     },
     "execution_count": 475,
     "metadata": {},
     "output_type": "execute_result"
    }
   ],
   "source": [
    "df_ord.describe()"
   ]
  },
  {
   "cell_type": "markdown",
   "id": "7a215104-fb33-4621-94dd-cc9b321b14e2",
   "metadata": {},
   "source": [
    "order_number: max=100 - possibly high for dataset timeframe\n",
    "orders_day_of_week: 0–6 - zero-indexed (0 = Sunday or Monday)\n",
    "days_since_prior_order: max=30 - possible monthly cap, min=0 - same-day orders or first-time customers, fewer entries - missing data likely for new customers\n",
    "order_id, order_number - identifiers - store as strings"
   ]
  },
  {
   "cell_type": "code",
   "execution_count": 476,
   "id": "72680755-9ce9-4bf2-b972-77ba89fe5218",
   "metadata": {},
   "outputs": [],
   "source": [
    "#### 2.1 Check for mixed-type data in your df_ords dataframe."
   ]
  },
  {
   "cell_type": "code",
   "execution_count": 477,
   "id": "c44cc169-0db9-4fd2-9773-7f5f8ac0a261",
   "metadata": {},
   "outputs": [
    {
     "data": {
      "text/plain": [
       "order_id                    int64\n",
       "user_id                    object\n",
       "order_number                int64\n",
       "orders_day_of_week          int64\n",
       "order_hour_of_day           int64\n",
       "days_since_prior_order    float64\n",
       "dtype: object"
      ]
     },
     "execution_count": 477,
     "metadata": {},
     "output_type": "execute_result"
    }
   ],
   "source": [
    "df_ord.dtypes"
   ]
  },
  {
   "cell_type": "code",
   "execution_count": 478,
   "id": "8c8ecc1c-b054-4f25-837b-0f99a7e85b16",
   "metadata": {},
   "outputs": [],
   "source": [
    "for col in df_ord.columns.tolist():\n",
    "  weird = (df_ord[[col]].map(type) != df_ord[[col]].iloc[0].apply(type)).any(axis = 1)\n",
    "  if len (df_ord[weird]) > 0:\n",
    "    print (col)"
   ]
  },
  {
   "cell_type": "markdown",
   "id": "ad1895d6-6281-4965-a93a-9ee075badef3",
   "metadata": {},
   "source": [
    "There are no mixed-type columns in this df. "
   ]
  },
  {
   "cell_type": "code",
   "execution_count": 479,
   "id": "1639b3fc-31f7-4048-9829-2d5ccc81c693",
   "metadata": {},
   "outputs": [],
   "source": [
    "#### 2.2 Check for missing values in df_ord"
   ]
  },
  {
   "cell_type": "code",
   "execution_count": 480,
   "id": "f38ad534-3786-4bc4-b828-ede0d857218b",
   "metadata": {
    "scrolled": true
   },
   "outputs": [
    {
     "data": {
      "text/plain": [
       "order_id                       0\n",
       "user_id                        0\n",
       "order_number                   0\n",
       "orders_day_of_week             0\n",
       "order_hour_of_day              0\n",
       "days_since_prior_order    206209\n",
       "dtype: int64"
      ]
     },
     "execution_count": 480,
     "metadata": {},
     "output_type": "execute_result"
    }
   ],
   "source": [
    "df_ord.isnull().sum()"
   ]
  },
  {
   "cell_type": "markdown",
   "id": "42f3d566-f824-444c-b02c-6b63a0f22164",
   "metadata": {},
   "source": [
    "There are 206209 missing values in the days_since_prior_order column. These likely represent customers’ first orders, so imputation is not necessary."
   ]
  },
  {
   "cell_type": "code",
   "execution_count": 481,
   "id": "e06c73ab-c3de-4b71-aa80-88166264d31b",
   "metadata": {},
   "outputs": [
    {
     "data": {
      "text/html": [
       "<div>\n",
       "<style scoped>\n",
       "    .dataframe tbody tr th:only-of-type {\n",
       "        vertical-align: middle;\n",
       "    }\n",
       "\n",
       "    .dataframe tbody tr th {\n",
       "        vertical-align: top;\n",
       "    }\n",
       "\n",
       "    .dataframe thead th {\n",
       "        text-align: right;\n",
       "    }\n",
       "</style>\n",
       "<table border=\"1\" class=\"dataframe\">\n",
       "  <thead>\n",
       "    <tr style=\"text-align: right;\">\n",
       "      <th></th>\n",
       "      <th>order_id</th>\n",
       "      <th>user_id</th>\n",
       "      <th>order_number</th>\n",
       "      <th>orders_day_of_week</th>\n",
       "      <th>order_hour_of_day</th>\n",
       "      <th>days_since_prior_order</th>\n",
       "    </tr>\n",
       "  </thead>\n",
       "  <tbody>\n",
       "    <tr>\n",
       "      <th>0</th>\n",
       "      <td>2539329</td>\n",
       "      <td>1</td>\n",
       "      <td>1</td>\n",
       "      <td>2</td>\n",
       "      <td>8</td>\n",
       "      <td>NaN</td>\n",
       "    </tr>\n",
       "    <tr>\n",
       "      <th>11</th>\n",
       "      <td>2168274</td>\n",
       "      <td>2</td>\n",
       "      <td>1</td>\n",
       "      <td>2</td>\n",
       "      <td>11</td>\n",
       "      <td>NaN</td>\n",
       "    </tr>\n",
       "    <tr>\n",
       "      <th>26</th>\n",
       "      <td>1374495</td>\n",
       "      <td>3</td>\n",
       "      <td>1</td>\n",
       "      <td>1</td>\n",
       "      <td>14</td>\n",
       "      <td>NaN</td>\n",
       "    </tr>\n",
       "    <tr>\n",
       "      <th>39</th>\n",
       "      <td>3343014</td>\n",
       "      <td>4</td>\n",
       "      <td>1</td>\n",
       "      <td>6</td>\n",
       "      <td>11</td>\n",
       "      <td>NaN</td>\n",
       "    </tr>\n",
       "    <tr>\n",
       "      <th>45</th>\n",
       "      <td>2717275</td>\n",
       "      <td>5</td>\n",
       "      <td>1</td>\n",
       "      <td>3</td>\n",
       "      <td>12</td>\n",
       "      <td>NaN</td>\n",
       "    </tr>\n",
       "    <tr>\n",
       "      <th>...</th>\n",
       "      <td>...</td>\n",
       "      <td>...</td>\n",
       "      <td>...</td>\n",
       "      <td>...</td>\n",
       "      <td>...</td>\n",
       "      <td>...</td>\n",
       "    </tr>\n",
       "    <tr>\n",
       "      <th>3420930</th>\n",
       "      <td>969311</td>\n",
       "      <td>206205</td>\n",
       "      <td>1</td>\n",
       "      <td>4</td>\n",
       "      <td>12</td>\n",
       "      <td>NaN</td>\n",
       "    </tr>\n",
       "    <tr>\n",
       "      <th>3420934</th>\n",
       "      <td>3189322</td>\n",
       "      <td>206206</td>\n",
       "      <td>1</td>\n",
       "      <td>3</td>\n",
       "      <td>18</td>\n",
       "      <td>NaN</td>\n",
       "    </tr>\n",
       "    <tr>\n",
       "      <th>3421002</th>\n",
       "      <td>2166133</td>\n",
       "      <td>206207</td>\n",
       "      <td>1</td>\n",
       "      <td>6</td>\n",
       "      <td>19</td>\n",
       "      <td>NaN</td>\n",
       "    </tr>\n",
       "    <tr>\n",
       "      <th>3421019</th>\n",
       "      <td>2227043</td>\n",
       "      <td>206208</td>\n",
       "      <td>1</td>\n",
       "      <td>1</td>\n",
       "      <td>15</td>\n",
       "      <td>NaN</td>\n",
       "    </tr>\n",
       "    <tr>\n",
       "      <th>3421069</th>\n",
       "      <td>3154581</td>\n",
       "      <td>206209</td>\n",
       "      <td>1</td>\n",
       "      <td>3</td>\n",
       "      <td>11</td>\n",
       "      <td>NaN</td>\n",
       "    </tr>\n",
       "  </tbody>\n",
       "</table>\n",
       "<p>206209 rows × 6 columns</p>\n",
       "</div>"
      ],
      "text/plain": [
       "         order_id user_id  order_number  orders_day_of_week  \\\n",
       "0         2539329       1             1                   2   \n",
       "11        2168274       2             1                   2   \n",
       "26        1374495       3             1                   1   \n",
       "39        3343014       4             1                   6   \n",
       "45        2717275       5             1                   3   \n",
       "...           ...     ...           ...                 ...   \n",
       "3420930    969311  206205             1                   4   \n",
       "3420934   3189322  206206             1                   3   \n",
       "3421002   2166133  206207             1                   6   \n",
       "3421019   2227043  206208             1                   1   \n",
       "3421069   3154581  206209             1                   3   \n",
       "\n",
       "         order_hour_of_day  days_since_prior_order  \n",
       "0                        8                     NaN  \n",
       "11                      11                     NaN  \n",
       "26                      14                     NaN  \n",
       "39                      11                     NaN  \n",
       "45                      12                     NaN  \n",
       "...                    ...                     ...  \n",
       "3420930                 12                     NaN  \n",
       "3420934                 18                     NaN  \n",
       "3421002                 19                     NaN  \n",
       "3421019                 15                     NaN  \n",
       "3421069                 11                     NaN  \n",
       "\n",
       "[206209 rows x 6 columns]"
      ]
     },
     "execution_count": 481,
     "metadata": {},
     "output_type": "execute_result"
    }
   ],
   "source": [
    "# Address the missing values using an appropriate method\n",
    "# Separate missing values in a new df  \n",
    "df_ord_nan = df_ord[df_ord['days_since_prior_order'].isnull() == True]\n",
    "df_ord_nan"
   ]
  },
  {
   "cell_type": "code",
   "execution_count": 482,
   "id": "f1cbc5b9-7435-476e-bade-59b09591dbbc",
   "metadata": {},
   "outputs": [
    {
     "data": {
      "text/plain": [
       "np.True_"
      ]
     },
     "execution_count": 482,
     "metadata": {},
     "output_type": "execute_result"
    }
   ],
   "source": [
    "# Filter the DataFrame where 'order_number' equals 1 and check if 'days_since_prior_order' is NaN in all rows\n",
    "df_first_orders = df_ord_nan[df_ord_nan['order_number'] == '1']\n",
    "df_first_orders_missing = df_first_orders['days_since_prior_order'].isna().all()\n",
    "df_first_orders_missing"
   ]
  },
  {
   "cell_type": "code",
   "execution_count": 483,
   "id": "cd302bac-6e71-46e0-9637-38d109b67f12",
   "metadata": {},
   "outputs": [],
   "source": [
    "#### REVISED "
   ]
  },
  {
   "cell_type": "code",
   "execution_count": 484,
   "id": "1b006b75-f5cc-4ae7-bd28-62704a5ebe62",
   "metadata": {},
   "outputs": [],
   "source": [
    "# Create a new boolean column, which will be True if NaN and False if not.\n",
    "df_ords_clean = df_ord  \n",
    "df_ords_clean['new_customer'] = df_ord['days_since_prior_order'].isnull() == True "
   ]
  },
  {
   "cell_type": "code",
   "execution_count": 485,
   "id": "ce8046fa-4d1f-43b6-aed9-849efab69a25",
   "metadata": {},
   "outputs": [],
   "source": [
    "#### 2.3 Run a check for duplicate values in your df_ords data"
   ]
  },
  {
   "cell_type": "code",
   "execution_count": 486,
   "id": "20345016-686d-4e22-a749-7d791d4f14bd",
   "metadata": {},
   "outputs": [
    {
     "data": {
      "text/plain": [
       "(3421083, 7)"
      ]
     },
     "execution_count": 486,
     "metadata": {},
     "output_type": "execute_result"
    }
   ],
   "source": [
    "# df_ords_clean = df_ord[df_ord.duplicated()]\n",
    "df_ords_clean_no_dups = df_ords_clean.drop_duplicates()\n",
    "df_ords_clean_no_dups.shape"
   ]
  },
  {
   "cell_type": "markdown",
   "id": "136f5db7-eee4-4140-8b2c-3afa31b390ed",
   "metadata": {},
   "source": [
    "There are no duplicate values in df_ord. Potential duplicates, if present, can be removed using .drop_duplicates()."
   ]
  },
  {
   "cell_type": "code",
   "execution_count": 487,
   "id": "8bddaf44-9303-4214-b380-670c4691bd91",
   "metadata": {},
   "outputs": [],
   "source": [
    "df_ords_clean_no_dups['order_id'] = df_ords_clean_no_dups['order_id'].astype('str')\n",
    "df_ords_clean_no_dups['order_number'] = df_ords_clean_no_dups['order_number'].astype('str')"
   ]
  },
  {
   "cell_type": "markdown",
   "id": "dedd7dc3-d2ff-4756-b1d7-3cd68b5b71bd",
   "metadata": {},
   "source": [
    "#### 2.4 Export the df"
   ]
  },
  {
   "cell_type": "code",
   "execution_count": 488,
   "id": "8f17b8c7-9eb3-45c4-9601-6dc123fb03b1",
   "metadata": {},
   "outputs": [],
   "source": [
    "df_ords_clean_no_dups.to_csv(os.path.join(path_data, '02 Data','Prepared Data', 'orders_cleaned.csv'))"
   ]
  }
 ],
 "metadata": {
  "kernelspec": {
   "display_name": "Python [conda env:base] *",
   "language": "python",
   "name": "conda-base-py"
  },
  "language_info": {
   "codemirror_mode": {
    "name": "ipython",
    "version": 3
   },
   "file_extension": ".py",
   "mimetype": "text/x-python",
   "name": "python",
   "nbconvert_exporter": "python",
   "pygments_lexer": "ipython3",
   "version": "3.13.5"
  }
 },
 "nbformat": 4,
 "nbformat_minor": 5
}
